{
  "nbformat": 4,
  "nbformat_minor": 0,
  "metadata": {
    "kernelspec": {
      "display_name": "Python 3",
      "language": "python",
      "name": "python3"
    },
    "language_info": {
      "codemirror_mode": {
        "name": "ipython",
        "version": 3
      },
      "file_extension": ".py",
      "mimetype": "text/x-python",
      "name": "python",
      "nbconvert_exporter": "python",
      "pygments_lexer": "ipython3",
      "version": "3.6.8"
    },
    "colab": {
      "name": "demo_PCA_with_basic_Model_HV.ipynb",
      "provenance": [],
      "collapsed_sections": []
    }
  },
  "cells": [
    {
      "cell_type": "markdown",
      "metadata": {
        "id": "e52Bi-3Lk_Gh"
      },
      "source": [
        "# PCA and Logistic Regression"
      ]
    },
    {
      "cell_type": "code",
      "source": [
        "!sudo apt-get clean "
      ],
      "metadata": {
        "id": "7O0KapRbaH9M"
      },
      "execution_count": null,
      "outputs": []
    },
    {
      "cell_type": "code",
      "source": [
        "!apt-get install openjdk-8-jdk-headless -qq > /dev/null\n",
        "!wget -q https://archive.apache.org/dist/spark/spark-2.4.8/spark-2.4.8-bin-hadoop2.7.tgz\n",
        "!tar -xvf spark-2.4.8-bin-hadoop2.7.tgz\n",
        "!pip install -q findspark\n",
        "import os\n",
        "os.environ[\"JAVA_HOME\"] = \"/usr/lib/jvm/java-8-openjdk-amd64\"\n",
        "os.environ[\"SPARK_HOME\"] = \"/content/spark-2.4.8-bin-hadoop2.7\"\n",
        "import findspark\n",
        "findspark.init()"
      ],
      "metadata": {
        "id": "nvAZGmPEaIsj"
      },
      "execution_count": null,
      "outputs": []
    },
    {
      "cell_type": "code",
      "source": [
        "from google.colab import drive\n",
        "drive.mount('/content/gdrive', force_remount=True)"
      ],
      "metadata": {
        "colab": {
          "base_uri": "https://localhost:8080/"
        },
        "id": "YOj2dWfRaNgX",
        "outputId": "ad3c3742-0887-456d-8eb0-5cc8d9e838b6"
      },
      "execution_count": null,
      "outputs": [
        {
          "output_type": "stream",
          "name": "stdout",
          "text": [
            "Mounted at /content/gdrive\n"
          ]
        }
      ]
    },
    {
      "cell_type": "code",
      "source": [
        "%cd '/content/gdrive/My Drive/LDS9/Practice/Chapter13/'"
      ],
      "metadata": {
        "colab": {
          "base_uri": "https://localhost:8080/"
        },
        "id": "oL7-UH8KaVCS",
        "outputId": "e3f5dee3-bb72-4346-a737-86cd7880c412"
      },
      "execution_count": null,
      "outputs": [
        {
          "output_type": "stream",
          "name": "stdout",
          "text": [
            "/content/gdrive/My Drive/LDS9/Practice/Chapter13\n"
          ]
        }
      ]
    },
    {
      "cell_type": "code",
      "metadata": {
        "id": "M-XAyPthk_Gm"
      },
      "source": [
        "from pyspark.sql import SparkSession"
      ],
      "execution_count": null,
      "outputs": []
    },
    {
      "cell_type": "code",
      "metadata": {
        "id": "5koeRiMuk_Gp"
      },
      "source": [
        "spark = SparkSession.builder.appName('PCA_sonar').getOrCreate()"
      ],
      "execution_count": null,
      "outputs": []
    },
    {
      "cell_type": "code",
      "metadata": {
        "id": "W72vnZ0Lk_Gs"
      },
      "source": [
        "df = spark.read.csv('sonar_all_data.txt',inferSchema=True,header=False)"
      ],
      "execution_count": null,
      "outputs": []
    },
    {
      "cell_type": "code",
      "metadata": {
        "id": "hOKf6D21k_Gv",
        "colab": {
          "base_uri": "https://localhost:8080/"
        },
        "outputId": "74606a31-3730-4d53-f8b7-1d32e9164ec1"
      },
      "source": [
        "df.printSchema()"
      ],
      "execution_count": null,
      "outputs": [
        {
          "output_type": "stream",
          "name": "stdout",
          "text": [
            "root\n",
            " |-- _c0: double (nullable = true)\n",
            " |-- _c1: double (nullable = true)\n",
            " |-- _c2: double (nullable = true)\n",
            " |-- _c3: double (nullable = true)\n",
            " |-- _c4: double (nullable = true)\n",
            " |-- _c5: double (nullable = true)\n",
            " |-- _c6: double (nullable = true)\n",
            " |-- _c7: double (nullable = true)\n",
            " |-- _c8: double (nullable = true)\n",
            " |-- _c9: double (nullable = true)\n",
            " |-- _c10: double (nullable = true)\n",
            " |-- _c11: double (nullable = true)\n",
            " |-- _c12: double (nullable = true)\n",
            " |-- _c13: double (nullable = true)\n",
            " |-- _c14: double (nullable = true)\n",
            " |-- _c15: double (nullable = true)\n",
            " |-- _c16: double (nullable = true)\n",
            " |-- _c17: double (nullable = true)\n",
            " |-- _c18: double (nullable = true)\n",
            " |-- _c19: double (nullable = true)\n",
            " |-- _c20: double (nullable = true)\n",
            " |-- _c21: double (nullable = true)\n",
            " |-- _c22: double (nullable = true)\n",
            " |-- _c23: double (nullable = true)\n",
            " |-- _c24: double (nullable = true)\n",
            " |-- _c25: double (nullable = true)\n",
            " |-- _c26: double (nullable = true)\n",
            " |-- _c27: double (nullable = true)\n",
            " |-- _c28: double (nullable = true)\n",
            " |-- _c29: double (nullable = true)\n",
            " |-- _c30: double (nullable = true)\n",
            " |-- _c31: double (nullable = true)\n",
            " |-- _c32: double (nullable = true)\n",
            " |-- _c33: double (nullable = true)\n",
            " |-- _c34: double (nullable = true)\n",
            " |-- _c35: double (nullable = true)\n",
            " |-- _c36: double (nullable = true)\n",
            " |-- _c37: double (nullable = true)\n",
            " |-- _c38: double (nullable = true)\n",
            " |-- _c39: double (nullable = true)\n",
            " |-- _c40: double (nullable = true)\n",
            " |-- _c41: double (nullable = true)\n",
            " |-- _c42: double (nullable = true)\n",
            " |-- _c43: double (nullable = true)\n",
            " |-- _c44: double (nullable = true)\n",
            " |-- _c45: double (nullable = true)\n",
            " |-- _c46: double (nullable = true)\n",
            " |-- _c47: double (nullable = true)\n",
            " |-- _c48: double (nullable = true)\n",
            " |-- _c49: double (nullable = true)\n",
            " |-- _c50: double (nullable = true)\n",
            " |-- _c51: double (nullable = true)\n",
            " |-- _c52: double (nullable = true)\n",
            " |-- _c53: double (nullable = true)\n",
            " |-- _c54: double (nullable = true)\n",
            " |-- _c55: double (nullable = true)\n",
            " |-- _c56: double (nullable = true)\n",
            " |-- _c57: double (nullable = true)\n",
            " |-- _c58: double (nullable = true)\n",
            " |-- _c59: double (nullable = true)\n",
            " |-- _c60: string (nullable = true)\n",
            "\n"
          ]
        }
      ]
    },
    {
      "cell_type": "code",
      "metadata": {
        "id": "49fNXyELk_G0"
      },
      "source": [
        "df = df.withColumnRenamed(\"_c60\",\"label\")"
      ],
      "execution_count": null,
      "outputs": []
    },
    {
      "cell_type": "code",
      "metadata": {
        "id": "ybpckWDTk_G2"
      },
      "source": [
        "from pyspark.ml.linalg import Vectors\n",
        "from pyspark.ml.feature import VectorAssembler\n",
        "from pyspark.ml.feature import StandardScaler\n",
        "from pyspark.ml.feature import StringIndexer\n",
        "from pyspark.ml.feature import PCA"
      ],
      "execution_count": null,
      "outputs": []
    },
    {
      "cell_type": "code",
      "metadata": {
        "id": "4DATk3Stk_G5"
      },
      "source": [
        "assembler = VectorAssembler(\n",
        "    inputCols=['_c%d' % i for i in range(60)],\n",
        "    outputCol=\"features\")\n",
        "output = assembler.transform(df)"
      ],
      "execution_count": null,
      "outputs": []
    },
    {
      "cell_type": "code",
      "metadata": {
        "id": "P-vc7q2Wk_G8",
        "outputId": "0fc2042d-54fe-4c62-f66b-0d15a623d2d1",
        "colab": {
          "base_uri": "https://localhost:8080/"
        }
      },
      "source": [
        "output.select(\"features\").show(1, truncate=False)"
      ],
      "execution_count": null,
      "outputs": [
        {
          "output_type": "stream",
          "name": "stdout",
          "text": [
            "+---------------------------------------------------------------------------------------------------------------------------------------------------------------------------------------------------------------------------------------------------------------------------------------------------------------------------------------------------------------------------------------------------------------------------+\n",
            "|features                                                                                                                                                                                                                                                                                                                                                                                                                   |\n",
            "+---------------------------------------------------------------------------------------------------------------------------------------------------------------------------------------------------------------------------------------------------------------------------------------------------------------------------------------------------------------------------------------------------------------------------+\n",
            "|[0.02,0.0371,0.0428,0.0207,0.0954,0.0986,0.1539,0.1601,0.3109,0.2111,0.1609,0.1582,0.2238,0.0645,0.066,0.2273,0.31,0.2999,0.5078,0.4797,0.5783,0.5071,0.4328,0.555,0.6711,0.6415,0.7104,0.808,0.6791,0.3857,0.1307,0.2604,0.5121,0.7547,0.8537,0.8507,0.6692,0.6097,0.4943,0.2744,0.051,0.2834,0.2825,0.4256,0.2641,0.1386,0.1051,0.1343,0.0383,0.0324,0.0232,0.0027,0.0065,0.0159,0.0072,0.0167,0.018,0.0084,0.009,0.0032]|\n",
            "+---------------------------------------------------------------------------------------------------------------------------------------------------------------------------------------------------------------------------------------------------------------------------------------------------------------------------------------------------------------------------------------------------------------------------+\n",
            "only showing top 1 row\n",
            "\n"
          ]
        }
      ]
    },
    {
      "cell_type": "markdown",
      "metadata": {
        "id": "Yyps4VBFk_G-"
      },
      "source": [
        "### Scale feature if we need"
      ]
    },
    {
      "cell_type": "code",
      "metadata": {
        "id": "xXe4nZxJk_G_"
      },
      "source": [
        "standardizer = StandardScaler(withMean=True, withStd=True,\n",
        "                              inputCol='features',\n",
        "                              outputCol='std_features')\n",
        "model = standardizer.fit(output)\n",
        "output = model.transform(output)"
      ],
      "execution_count": null,
      "outputs": []
    },
    {
      "cell_type": "markdown",
      "metadata": {
        "id": "6noyzkw9k_HC"
      },
      "source": [
        "### Label to Lable_idx"
      ]
    },
    {
      "cell_type": "code",
      "metadata": {
        "id": "qACoYKnvk_HC"
      },
      "source": [
        "indexer = StringIndexer(inputCol=\"label\", outputCol=\"label_idx\")\n",
        "indexed = indexer.fit(output).transform(output)"
      ],
      "execution_count": null,
      "outputs": []
    },
    {
      "cell_type": "code",
      "metadata": {
        "id": "PTp2GtXAk_HF"
      },
      "source": [
        "final_data = indexed.select(['std_features', 'label', 'label_idx'])"
      ],
      "execution_count": null,
      "outputs": []
    },
    {
      "cell_type": "code",
      "metadata": {
        "id": "ZSfKi6dBk_HH",
        "outputId": "b3546f9d-aa94-41ea-8cb9-416fed848a82",
        "colab": {
          "base_uri": "https://localhost:8080/"
        }
      },
      "source": [
        "final_data.show(3)"
      ],
      "execution_count": null,
      "outputs": [
        {
          "output_type": "stream",
          "name": "stdout",
          "text": [
            "+--------------------+-----+---------+\n",
            "|        std_features|label|label_idx|\n",
            "+--------------------+-----+---------+\n",
            "|[-0.3985897356694...|    R|      1.0|\n",
            "|[0.70184498705605...|    R|      1.0|\n",
            "|[-0.1289179854363...|    R|      1.0|\n",
            "+--------------------+-----+---------+\n",
            "only showing top 3 rows\n",
            "\n"
          ]
        }
      ]
    },
    {
      "cell_type": "markdown",
      "metadata": {
        "id": "iW7Ju6Stk_HK"
      },
      "source": [
        "### PCA"
      ]
    },
    {
      "cell_type": "code",
      "metadata": {
        "id": "Ifa-AY75k_HK"
      },
      "source": [
        "# PCA"
      ],
      "execution_count": null,
      "outputs": []
    },
    {
      "cell_type": "code",
      "metadata": {
        "id": "jfK_T0s2k_HM",
        "outputId": "feffa98c-4df8-419e-ac7f-6322712dda91",
        "colab": {
          "base_uri": "https://localhost:8080/"
        }
      },
      "source": [
        "# "
      ],
      "execution_count": null,
      "outputs": [
        {
          "output_type": "execute_result",
          "data": {
            "text/plain": [
              "DenseVector([0.2035, 0.189, 0.0855, 0.0568, 0.0501, 0.0406, 0.0328, 0.0305, 0.0257, 0.0249, 0.0208, 0.019, 0.0175, 0.0154, 0.0143])"
            ]
          },
          "metadata": {},
          "execution_count": 18
        }
      ]
    },
    {
      "cell_type": "code",
      "metadata": {
        "id": "l_qigqYKk_HP",
        "outputId": "ea8d6a1b-2ed5-4fc7-c258-d53e92a90571",
        "colab": {
          "base_uri": "https://localhost:8080/"
        }
      },
      "source": [
        "#\n",
        "type(percent)    "
      ],
      "execution_count": null,
      "outputs": [
        {
          "output_type": "execute_result",
          "data": {
            "text/plain": [
              "pyspark.ml.linalg.DenseVector"
            ]
          },
          "metadata": {},
          "execution_count": 19
        }
      ]
    },
    {
      "cell_type": "code",
      "metadata": {
        "id": "MlRBvWUyk_HR",
        "outputId": "e8141267-aecc-40c4-d240-c07cdace5656",
        "colab": {
          "base_uri": "https://localhost:8080/"
        }
      },
      "source": [
        "#"
      ],
      "execution_count": null,
      "outputs": [
        {
          "output_type": "execute_result",
          "data": {
            "text/plain": [
              "0.8261807898020073"
            ]
          },
          "metadata": {},
          "execution_count": 20
        }
      ]
    },
    {
      "cell_type": "code",
      "metadata": {
        "id": "zT7GwXoak_HT"
      },
      "source": [
        "#"
      ],
      "execution_count": null,
      "outputs": []
    },
    {
      "cell_type": "code",
      "metadata": {
        "id": "4yM0LK1Bk_HW",
        "outputId": "253128de-036d-42d2-a106-17f9251c150a",
        "colab": {
          "base_uri": "https://localhost:8080/"
        }
      },
      "source": [
        "transformed.show(3)"
      ],
      "execution_count": null,
      "outputs": [
        {
          "output_type": "stream",
          "name": "stdout",
          "text": [
            "+--------------------+-----+---------+--------------------+\n",
            "|        std_features|label|label_idx|                 pca|\n",
            "+--------------------+-----+---------+--------------------+\n",
            "|[-0.3985897356694...|    R|      1.0|[-1.9165444107164...|\n",
            "|[0.70184498705605...|    R|      1.0|[0.47896904316845...|\n",
            "|[-0.1289179854363...|    R|      1.0|[-3.8499400285258...|\n",
            "+--------------------+-----+---------+--------------------+\n",
            "only showing top 3 rows\n",
            "\n"
          ]
        }
      ]
    },
    {
      "cell_type": "code",
      "metadata": {
        "id": "khiPSZUek_HY"
      },
      "source": [
        "#"
      ],
      "execution_count": null,
      "outputs": []
    },
    {
      "cell_type": "markdown",
      "metadata": {
        "id": "cCxmNp5ek_Ha"
      },
      "source": [
        "### Logistic Regression"
      ]
    },
    {
      "cell_type": "code",
      "metadata": {
        "id": "mqvvjZNKk_Hb"
      },
      "source": [
        "train_data,test_data = final_data.randomSplit([0.8,0.2])"
      ],
      "execution_count": null,
      "outputs": []
    },
    {
      "cell_type": "code",
      "metadata": {
        "id": "TamONYuAk_Hd"
      },
      "source": [
        "from pyspark.ml.classification import LogisticRegression"
      ],
      "execution_count": null,
      "outputs": []
    },
    {
      "cell_type": "code",
      "metadata": {
        "id": "iGjoh6ZOk_Hg"
      },
      "source": [
        "logistic = LogisticRegression(featuresCol='pca', \n",
        "                      labelCol='label_idx', \n",
        "                      predictionCol='prediction')"
      ],
      "execution_count": null,
      "outputs": []
    },
    {
      "cell_type": "code",
      "metadata": {
        "id": "MyMd0SvIk_Hi"
      },
      "source": [
        "# Fit the model to the data and call this model logisticModel\n",
        "logisticModel = logistic.fit(train_data)"
      ],
      "execution_count": null,
      "outputs": []
    },
    {
      "cell_type": "code",
      "metadata": {
        "id": "yROpt_4zk_Hl",
        "outputId": "85d63e2b-1cb3-47a1-f251-b8be7c847853",
        "colab": {
          "base_uri": "https://localhost:8080/"
        }
      },
      "source": [
        "# Create predictions for the testing data and show confusion matrix\n",
        "test_model = logisticModel.transform(test_data)\n",
        "test_model.groupBy('label_idx', 'prediction').count().show()"
      ],
      "execution_count": null,
      "outputs": [
        {
          "output_type": "stream",
          "name": "stdout",
          "text": [
            "+---------+----------+-----+\n",
            "|label_idx|prediction|count|\n",
            "+---------+----------+-----+\n",
            "|      1.0|       1.0|   14|\n",
            "|      0.0|       1.0|    6|\n",
            "|      1.0|       0.0|    8|\n",
            "|      0.0|       0.0|   13|\n",
            "+---------+----------+-----+\n",
            "\n"
          ]
        }
      ]
    },
    {
      "cell_type": "code",
      "metadata": {
        "id": "SwQflSh6k_Hn"
      },
      "source": [
        "# Calculate the elements of the confusion matrix\n",
        "TN = test_model.filter('prediction = 0 AND label_idx = prediction').count()\n",
        "TP = test_model.filter('prediction = 1 AND label_idx = prediction').count()\n",
        "FN = test_model.filter('prediction = 0 AND label_idx != prediction').count()\n",
        "FP = test_model.filter('prediction = 1 AND label_idx != prediction').count()"
      ],
      "execution_count": null,
      "outputs": []
    },
    {
      "cell_type": "code",
      "metadata": {
        "id": "SlFJ0_41k_Hq",
        "outputId": "8d105f9f-21f7-4d96-d8ca-66b4ce153a68",
        "colab": {
          "base_uri": "https://localhost:8080/"
        }
      },
      "source": [
        "# Calculate precision and recall\n",
        "precision = TP / (TP + FP)\n",
        "recall = TP / (TP + FN)\n",
        "print('precision = {:.2f}\\nrecall    = {:.2f}'.format(precision, recall))"
      ],
      "execution_count": null,
      "outputs": [
        {
          "output_type": "stream",
          "name": "stdout",
          "text": [
            "precision = 0.70\n",
            "recall    = 0.64\n"
          ]
        }
      ]
    },
    {
      "cell_type": "code",
      "metadata": {
        "id": "ZAiJaeE1k_Hs",
        "outputId": "18a54878-353f-4276-9964-c1490ab7bde0",
        "colab": {
          "base_uri": "https://localhost:8080/"
        }
      },
      "source": [
        "acc =(TP+TN)/test_model.count()\n",
        "acc"
      ],
      "execution_count": null,
      "outputs": [
        {
          "output_type": "execute_result",
          "data": {
            "text/plain": [
              "0.6585365853658537"
            ]
          },
          "metadata": {},
          "execution_count": 31
        }
      ]
    }
  ]
}